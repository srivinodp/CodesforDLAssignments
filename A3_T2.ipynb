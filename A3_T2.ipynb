{
  "nbformat": 4,
  "nbformat_minor": 0,
  "metadata": {
    "colab": {
      "name": "A3_T2.ipynb",
      "provenance": []
    },
    "kernelspec": {
      "name": "python3",
      "display_name": "Python 3"
    },
    "accelerator": "GPU"
  },
  "cells": [
    {
      "cell_type": "code",
      "metadata": {
        "id": "JWhp53px6gw7"
      },
      "source": [
        "import tensorflow as tf\n",
        "import os\n",
        "import IPython.display as display\n",
        "from PIL import Image\n",
        "import numpy as np\n",
        "import matplotlib\n",
        "import matplotlib.pyplot as plt\n",
        "import pathlib\n",
        "from sklearn.model_selection import train_test_split\n",
        "from tensorflow.keras import layers, models\n",
        "import tensorflow.keras.backend as K\n",
        "from tensorflow.keras.callbacks import EarlyStopping\n",
        "from tensorflow.keras.preprocessing.image import ImageDataGenerator"
      ],
      "execution_count": null,
      "outputs": []
    },
    {
      "cell_type": "code",
      "metadata": {
        "id": "RZDw1wLs97K6"
      },
      "source": [
        "IMG_HEIGHT = 224\n",
        "IMG_WIDTH = 224\n",
        "\n",
        "def decode_img(img):\n",
        "  # convert the compressed string to a 3D uint8 tensor\n",
        "  img = tf.image.decode_jpeg(img, channels=3)\n",
        "  # Use `convert_image_dtype` to convert to floats in the [0,1] range.\n",
        "  img = tf.image.convert_image_dtype(img, tf.float32)\n",
        "  # resize the image to the desired size.\n",
        "  return tf.image.resize(img, [IMG_HEIGHT, IMG_WIDTH])\n",
        "\n",
        "classes={}\n",
        "classes['013.Bobolink']=0\n",
        "classes['034.Gray_crowned_Rosy_Finch']=1\n",
        "classes['041.Scissor_tailed_Flycatcher']=2\n",
        "classes['067.Anna_Hummingbird']=3\n",
        "classes['114.Black_throated_Sparrow']=4\n",
        "classes['142.Black_Tern']=5\n",
        "classes['170.Mourning_Warbler']=6\n",
        "\n",
        "\n",
        "def get_label(path):\n",
        "    return classes[path.split('/')[-2]]\n",
        "\n",
        "data = [];labels = []\n",
        "for subdir, dirs, files in os.walk(r'/content/drive/My Drive/DEEP LEARNING ASSIGNMENTS/ASSIGN3/Imagedata'):\n",
        "    for filename in files:\n",
        "        filepath = subdir + os.sep + filename\n",
        "        data += [decode_img(tf.io.read_file(filepath)).numpy()]\n",
        "        labels += [np.array([get_label(filepath)])]\n"
      ],
      "execution_count": null,
      "outputs": []
    },
    {
      "cell_type": "code",
      "metadata": {
        "id": "ldcW903eWFMa",
        "colab": {
          "base_uri": "https://localhost:8080/",
          "height": 52
        },
        "outputId": "739256f2-6a29-4117-e180-c1b88ed27b57"
      },
      "source": [
        "X_tr, X_te, Y_tr, Y_te = train_test_split(data, labels, train_size = 0.7, random_state = 5)\n",
        "X_val, X_test, Y_val,Y_test = train_test_split(X_te, Y_te, train_size = 0.33, random_state = 5)\n",
        "print(len(X_tr), len(X_val), len(X_test))\n",
        "\n",
        "X_tr = np.array(X_tr)\n",
        "Y_tr = np.array(Y_tr)\n",
        "\n",
        "X_val = np.array(X_val)\n",
        "Y_val = np.array(Y_val)\n",
        "\n",
        "X_test = np.array(X_test)\n",
        "Y_test = np.array(Y_test)\n",
        "\n",
        "print(X_tr.shape, X_val.shape, X_test.shape, Y_tr.shape)\n",
        "# print(X_tr.type)"
      ],
      "execution_count": null,
      "outputs": [
        {
          "output_type": "stream",
          "text": [
            "293 41 85\n",
            "(293, 224, 224, 3) (41, 224, 224, 3) (85, 224, 224, 3) (293, 1)\n"
          ],
          "name": "stdout"
        }
      ]
    },
    {
      "cell_type": "code",
      "metadata": {
        "id": "fUj0RcUlAYkp"
      },
      "source": [
        "aug = ImageDataGenerator(\n",
        "    featurewise_center=True,\n",
        "    featurewise_std_normalization=True,\n",
        "    rotation_range=20,\n",
        "    width_shift_range=0.2,\n",
        "    height_shift_range=0.2,\n",
        "    horizontal_flip=True)"
      ],
      "execution_count": null,
      "outputs": []
    },
    {
      "cell_type": "code",
      "metadata": {
        "id": "vwPvM7pYcbsJ",
        "colab": {
          "base_uri": "https://localhost:8080/",
          "height": 1000
        },
        "outputId": "2f5a91d6-9722-4578-9a33-96d5f061a872"
      },
      "source": [
        "model = models.Sequential()\n",
        "model.add(layers.Conv2D(4, (3, 3), activation='relu', input_shape=(224, 224, 3)))\n",
        "model.add(layers.AveragePooling2D((2, 2),strides = (2,2)))\n",
        "model.add(layers.Conv2D(16, (3, 3), activation='relu'))\n",
        "model.add(layers.AveragePooling2D((2, 2),strides = (2,2)))\n",
        "model.add(layers.Flatten())\n",
        "model.add(layers.Dense(128, activation='relu'))\n",
        "model.add(layers.Dense(7))\n",
        "model.summary()\n",
        "\n",
        "model.compile(optimizer='adam',metrics=['accuracy'],\n",
        "              loss=tf.keras.losses.SparseCategoricalCrossentropy(from_logits=True),\n",
        "              )\n",
        "early_stopping_monitor = EarlyStopping(monitor = 'loss',min_delta = 0.01)\n",
        "history = model.fit(X_tr, Y_tr, epochs=100,validation_data=(X_val,Y_val),callbacks=[early_stopping_monitor])\n",
        "score, acc = model.evaluate(X_test, Y_test)\n",
        "print(score,acc)"
      ],
      "execution_count": null,
      "outputs": [
        {
          "output_type": "stream",
          "text": [
            "Model: \"sequential_7\"\n",
            "_________________________________________________________________\n",
            "Layer (type)                 Output Shape              Param #   \n",
            "=================================================================\n",
            "conv2d_14 (Conv2D)           (None, 222, 222, 4)       112       \n",
            "_________________________________________________________________\n",
            "average_pooling2d_14 (Averag (None, 111, 111, 4)       0         \n",
            "_________________________________________________________________\n",
            "conv2d_15 (Conv2D)           (None, 109, 109, 16)      592       \n",
            "_________________________________________________________________\n",
            "average_pooling2d_15 (Averag (None, 54, 54, 16)        0         \n",
            "_________________________________________________________________\n",
            "flatten_7 (Flatten)          (None, 46656)             0         \n",
            "_________________________________________________________________\n",
            "dense_14 (Dense)             (None, 128)               5972096   \n",
            "_________________________________________________________________\n",
            "dense_15 (Dense)             (None, 7)                 903       \n",
            "=================================================================\n",
            "Total params: 5,973,703\n",
            "Trainable params: 5,973,703\n",
            "Non-trainable params: 0\n",
            "_________________________________________________________________\n",
            "Epoch 1/100\n",
            "10/10 [==============================] - 0s 32ms/step - loss: 4.2912 - accuracy: 0.1638 - val_loss: 2.6253 - val_accuracy: 0.1463\n",
            "Epoch 2/100\n",
            "10/10 [==============================] - 0s 22ms/step - loss: 1.9984 - accuracy: 0.2969 - val_loss: 1.7265 - val_accuracy: 0.2683\n",
            "Epoch 3/100\n",
            "10/10 [==============================] - 0s 18ms/step - loss: 1.6541 - accuracy: 0.4061 - val_loss: 1.5825 - val_accuracy: 0.3659\n",
            "Epoch 4/100\n",
            "10/10 [==============================] - 0s 18ms/step - loss: 1.4485 - accuracy: 0.5427 - val_loss: 1.4745 - val_accuracy: 0.3659\n",
            "Epoch 5/100\n",
            "10/10 [==============================] - 0s 17ms/step - loss: 1.3013 - accuracy: 0.5802 - val_loss: 1.4819 - val_accuracy: 0.4634\n",
            "Epoch 6/100\n",
            "10/10 [==============================] - 0s 17ms/step - loss: 1.0813 - accuracy: 0.6621 - val_loss: 1.4487 - val_accuracy: 0.5366\n",
            "Epoch 7/100\n",
            "10/10 [==============================] - 0s 17ms/step - loss: 0.8905 - accuracy: 0.7372 - val_loss: 1.4107 - val_accuracy: 0.4146\n",
            "Epoch 8/100\n",
            "10/10 [==============================] - 0s 18ms/step - loss: 0.7528 - accuracy: 0.7713 - val_loss: 1.6265 - val_accuracy: 0.2927\n",
            "Epoch 9/100\n",
            "10/10 [==============================] - 0s 16ms/step - loss: 0.6614 - accuracy: 0.8259 - val_loss: 1.4151 - val_accuracy: 0.4634\n",
            "Epoch 10/100\n",
            "10/10 [==============================] - 0s 17ms/step - loss: 0.4813 - accuracy: 0.8840 - val_loss: 1.6848 - val_accuracy: 0.4634\n",
            "Epoch 11/100\n",
            "10/10 [==============================] - 0s 17ms/step - loss: 0.4564 - accuracy: 0.9010 - val_loss: 1.5217 - val_accuracy: 0.5366\n",
            "Epoch 12/100\n",
            "10/10 [==============================] - 0s 16ms/step - loss: 0.3254 - accuracy: 0.9590 - val_loss: 1.5708 - val_accuracy: 0.4878\n",
            "Epoch 13/100\n",
            "10/10 [==============================] - 0s 17ms/step - loss: 0.2164 - accuracy: 0.9727 - val_loss: 1.4579 - val_accuracy: 0.5122\n",
            "Epoch 14/100\n",
            "10/10 [==============================] - 0s 17ms/step - loss: 0.1389 - accuracy: 0.9761 - val_loss: 1.6226 - val_accuracy: 0.5122\n",
            "Epoch 15/100\n",
            "10/10 [==============================] - 0s 17ms/step - loss: 0.1059 - accuracy: 0.9898 - val_loss: 1.7417 - val_accuracy: 0.4878\n",
            "Epoch 16/100\n",
            "10/10 [==============================] - 0s 17ms/step - loss: 0.0779 - accuracy: 0.9966 - val_loss: 1.8648 - val_accuracy: 0.4390\n",
            "Epoch 17/100\n",
            "10/10 [==============================] - 0s 17ms/step - loss: 0.0631 - accuracy: 1.0000 - val_loss: 1.7447 - val_accuracy: 0.4878\n",
            "Epoch 18/100\n",
            "10/10 [==============================] - 0s 18ms/step - loss: 0.0541 - accuracy: 1.0000 - val_loss: 1.9249 - val_accuracy: 0.4634\n",
            "3/3 [==============================] - 0s 5ms/step - loss: 1.7947 - accuracy: 0.4824\n",
            "1.7946511507034302 0.48235294222831726\n"
          ],
          "name": "stdout"
        }
      ]
    },
    {
      "cell_type": "code",
      "metadata": {
        "id": "K6VIouVA4CjB",
        "colab": {
          "base_uri": "https://localhost:8080/",
          "height": 52
        },
        "outputId": "e1605fc9-fa0f-4f4f-fa8e-27ee4e4dfd95"
      },
      "source": [
        "score, acc = model.evaluate(X_test, Y_test)\n",
        "print(score,acc)"
      ],
      "execution_count": null,
      "outputs": [
        {
          "output_type": "stream",
          "text": [
            "3/3 [==============================] - 0s 7ms/step - loss: 2.1882 - accuracy: 0.4235\n",
            "2.188183307647705 0.42352941632270813\n"
          ],
          "name": "stdout"
        }
      ]
    },
    {
      "cell_type": "code",
      "metadata": {
        "id": "pFJ1uTy0XSZs"
      },
      "source": [
        "# model.save_weights('/content/drive/My Drive/DEEP LEARNING ASSIGNMENTS/ASSIGN3/cnn_weights_new.h5')"
      ],
      "execution_count": null,
      "outputs": []
    },
    {
      "cell_type": "code",
      "metadata": {
        "id": "kZzTOuIy1Rzb",
        "colab": {
          "base_uri": "https://localhost:8080/",
          "height": 121
        },
        "outputId": "5fa5732b-4dd8-4dd4-f200-f2789b14deee"
      },
      "source": [
        "model.load_weights('/content/drive/My Drive/DEEP LEARNING ASSIGNMENTS/ASSIGN3/cnn_weights_new.h5')\n",
        "score, acc = model.evaluate(X_tr, Y_tr)\n",
        "print('train_accuracy: ',acc)\n",
        "score, acc = model.evaluate(X_val, Y_val)\n",
        "print('val_accuracy: ',acc)\n",
        "score, acc = model.evaluate(X_test, Y_test)\n",
        "print('test_accuracy: ',acc)"
      ],
      "execution_count": null,
      "outputs": [
        {
          "output_type": "stream",
          "text": [
            "10/10 [==============================] - 0s 11ms/step - loss: 0.0404 - accuracy: 1.0000\n",
            "train_accuracy:  1.0\n",
            "2/2 [==============================] - 0s 4ms/step - loss: 1.9249 - accuracy: 0.4634\n",
            "val_accuracy:  0.46341463923454285\n",
            "3/3 [==============================] - 0s 8ms/step - loss: 1.7947 - accuracy: 0.4824\n",
            "test_accuracy:  0.48235294222831726\n"
          ],
          "name": "stdout"
        }
      ]
    },
    {
      "cell_type": "code",
      "metadata": {
        "id": "jt6z0-444nVB",
        "colab": {
          "base_uri": "https://localhost:8080/",
          "height": 314
        },
        "outputId": "c4554318-fc38-4013-e214-1ba75f5087a2"
      },
      "source": [
        "print('Number of epochs taken:',len(history.history['loss']))\n",
        "fig, ax = plt.subplots()\n",
        "plt.plot(history.history['accuracy'], label='accuracy')\n",
        "plt.plot(history.history['val_accuracy'], label = 'val_accuracy')\n",
        "plt.xlabel('Epoch')\n",
        "ax.set_xticks(np.arange(0,len(history.history['loss']),1))\n",
        "plt.ylabel('Accuracy')\n",
        "plt.legend(loc='lower right')\n",
        "\n",
        "# test_loss, test_acc = model.evaluate(test_images,  test_labels, verbose=2)"
      ],
      "execution_count": null,
      "outputs": [
        {
          "output_type": "stream",
          "text": [
            "Number of epochs taken: 18\n"
          ],
          "name": "stdout"
        },
        {
          "output_type": "execute_result",
          "data": {
            "text/plain": [
              "<matplotlib.legend.Legend at 0x7f80900ef438>"
            ]
          },
          "metadata": {
            "tags": []
          },
          "execution_count": 21
        },
        {
          "output_type": "display_data",
          "data": {
            "image/png": "[encoded data removed]",
            "text/plain": [
              "<Figure size 432x288 with 1 Axes>"
            ]
          },
          "metadata": {
            "tags": [],
            "needs_background": "light"
          }
        }
      ]
    },
    {
      "cell_type": "code",
      "metadata": {
        "id": "wsq0wxVD8fn1",
        "colab": {
          "base_uri": "https://localhost:8080/",
          "height": 74
        },
        "outputId": "d0c19c8d-a096-4bff-b041-e243dc84d9cc"
      },
      "source": [
        "from keras import utils as np_utils\n",
        "(x_train, y_train), (x_test, y_test) = tf.keras.datasets.cifar10.load_data()\n",
        "print(x_train.shape,y_train.shape)\n",
        "print(y_train[0])\n",
        "y_train = np_utils.to_categorical(y_train, num_classes = 10)\n",
        "print(y_train[0])"
      ],
      "execution_count": null,
      "outputs": [
        {
          "output_type": "stream",
          "text": [
            "(50000, 32, 32, 3) (50000, 1)\n",
            "[6]\n",
            "[0. 0. 0. 0. 0. 0. 1. 0. 0. 0.]\n"
          ],
          "name": "stdout"
        }
      ]
    }
  ]
}