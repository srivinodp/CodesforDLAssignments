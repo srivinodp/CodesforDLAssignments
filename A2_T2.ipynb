{
  "nbformat": 4,
  "nbformat_minor": 0,
  "metadata": {
    "colab": {
      "name": "DL_A2_T2.ipynb",
      "provenance": [],
      "toc_visible": true
    },
    "kernelspec": {
      "name": "python3",
      "display_name": "Python 3"
    },
    "accelerator": "GPU"
  },
  "cells": [
    {
      "cell_type": "code",
      "metadata": {
        "id": "XBVGIq77m64C"
      },
      "source": [
        "import os\n",
        "import csv\n",
        "import torch\n",
        "import torchvision\n",
        "import torch.nn as nn\n",
        "import torch.nn.functional as F\n",
        "import matplotlib.pyplot as plt\n",
        "import pandas as pd\n",
        "import glob\n",
        "from sklearn.model_selection import train_test_split\n",
        "import torch.optim as optim\n",
        "import numpy as np\n",
        "from torchvision import transforms"
      ],
      "execution_count": null,
      "outputs": []
    },
    {
      "cell_type": "code",
      "metadata": {
        "id": "adRu2blAqfJm"
      },
      "source": [
        "samples=[]\n",
        "classes={}\n",
        "classes['forest']=0\n",
        "classes['highway']=1\n",
        "classes['insidecity']=2\n",
        "classes['mountain']=3\n",
        "classes['street']=4\n",
        "sampleClasses=[]\n",
        "X_tr = []; X_te = []; Y_tr = []; Y_te = [];"
      ],
      "execution_count": null,
      "outputs": []
    },
    {
      "cell_type": "code",
      "metadata": {
        "id": "60YwCJUwY1WF",
        "colab": {
          "base_uri": "https://localhost:8080/",
          "height": 380
        },
        "outputId": "e28beef1-2b88-4ce9-8d23-03cc0d3d85d4"
      },
      "source": [
        "for root, dirs, files in os.walk(\"/content/drive/My Drive/DEEP LEARNING ASSIGNMENTS/OUR_GROUP\", topdown=False):\n",
        "    for name in files:\n",
        "        filepath=os.path.join(root, name)\n",
        "        f=open(filepath,'r')\n",
        "        data=f.read().replace('\\n', ' ').split(' ')\n",
        "        data = list(filter(None, data))\n",
        "        samples.append(data)\n",
        "        #print(root)\n",
        "        sampleClass=classes[root.split('/')[-1]]\n",
        "        sampleClasses.append(sampleClass)\n",
        "        f.close()"
      ],
      "execution_count": null,
      "outputs": [
        {
          "output_type": "error",
          "ename": "KeyboardInterrupt",
          "evalue": "ignored",
          "traceback": [
            "\u001b[0;31m---------------------------------------------------------------------------\u001b[0m",
            "\u001b[0;31mKeyboardInterrupt\u001b[0m                         Traceback (most recent call last)",
            "\u001b[0;32m<ipython-input-3-bb0996093b87>\u001b[0m in \u001b[0;36m<module>\u001b[0;34m()\u001b[0m\n\u001b[1;32m      3\u001b[0m         \u001b[0mfilepath\u001b[0m\u001b[0;34m=\u001b[0m\u001b[0mos\u001b[0m\u001b[0;34m.\u001b[0m\u001b[0mpath\u001b[0m\u001b[0;34m.\u001b[0m\u001b[0mjoin\u001b[0m\u001b[0;34m(\u001b[0m\u001b[0mroot\u001b[0m\u001b[0;34m,\u001b[0m \u001b[0mname\u001b[0m\u001b[0;34m)\u001b[0m\u001b[0;34m\u001b[0m\u001b[0;34m\u001b[0m\u001b[0m\n\u001b[1;32m      4\u001b[0m         \u001b[0mf\u001b[0m\u001b[0;34m=\u001b[0m\u001b[0mopen\u001b[0m\u001b[0;34m(\u001b[0m\u001b[0mfilepath\u001b[0m\u001b[0;34m,\u001b[0m\u001b[0;34m'r'\u001b[0m\u001b[0;34m)\u001b[0m\u001b[0;34m\u001b[0m\u001b[0;34m\u001b[0m\u001b[0m\n\u001b[0;32m----> 5\u001b[0;31m         \u001b[0mdata\u001b[0m\u001b[0;34m=\u001b[0m\u001b[0mf\u001b[0m\u001b[0;34m.\u001b[0m\u001b[0mread\u001b[0m\u001b[0;34m(\u001b[0m\u001b[0;34m)\u001b[0m\u001b[0;34m.\u001b[0m\u001b[0mreplace\u001b[0m\u001b[0;34m(\u001b[0m\u001b[0;34m'\\n'\u001b[0m\u001b[0;34m,\u001b[0m \u001b[0;34m' '\u001b[0m\u001b[0;34m)\u001b[0m\u001b[0;34m.\u001b[0m\u001b[0msplit\u001b[0m\u001b[0;34m(\u001b[0m\u001b[0;34m' '\u001b[0m\u001b[0;34m)\u001b[0m\u001b[0;34m\u001b[0m\u001b[0;34m\u001b[0m\u001b[0m\n\u001b[0m\u001b[1;32m      6\u001b[0m         \u001b[0mdata\u001b[0m \u001b[0;34m=\u001b[0m \u001b[0mlist\u001b[0m\u001b[0;34m(\u001b[0m\u001b[0mfilter\u001b[0m\u001b[0;34m(\u001b[0m\u001b[0;32mNone\u001b[0m\u001b[0;34m,\u001b[0m \u001b[0mdata\u001b[0m\u001b[0;34m)\u001b[0m\u001b[0;34m)\u001b[0m\u001b[0;34m\u001b[0m\u001b[0;34m\u001b[0m\u001b[0m\n\u001b[1;32m      7\u001b[0m         \u001b[0msamples\u001b[0m\u001b[0;34m.\u001b[0m\u001b[0mappend\u001b[0m\u001b[0;34m(\u001b[0m\u001b[0mdata\u001b[0m\u001b[0;34m)\u001b[0m\u001b[0;34m\u001b[0m\u001b[0;34m\u001b[0m\u001b[0m\n",
            "\u001b[0;32m/usr/lib/python3.6/codecs.py\u001b[0m in \u001b[0;36mdecode\u001b[0;34m(self, input, final)\u001b[0m\n\u001b[1;32m    316\u001b[0m         \u001b[0;32mraise\u001b[0m \u001b[0mNotImplementedError\u001b[0m\u001b[0;34m\u001b[0m\u001b[0;34m\u001b[0m\u001b[0m\n\u001b[1;32m    317\u001b[0m \u001b[0;34m\u001b[0m\u001b[0m\n\u001b[0;32m--> 318\u001b[0;31m     \u001b[0;32mdef\u001b[0m \u001b[0mdecode\u001b[0m\u001b[0;34m(\u001b[0m\u001b[0mself\u001b[0m\u001b[0;34m,\u001b[0m \u001b[0minput\u001b[0m\u001b[0;34m,\u001b[0m \u001b[0mfinal\u001b[0m\u001b[0;34m=\u001b[0m\u001b[0;32mFalse\u001b[0m\u001b[0;34m)\u001b[0m\u001b[0;34m:\u001b[0m\u001b[0;34m\u001b[0m\u001b[0;34m\u001b[0m\u001b[0m\n\u001b[0m\u001b[1;32m    319\u001b[0m         \u001b[0;31m# decode input (taking the buffer into account)\u001b[0m\u001b[0;34m\u001b[0m\u001b[0;34m\u001b[0m\u001b[0;34m\u001b[0m\u001b[0m\n\u001b[1;32m    320\u001b[0m         \u001b[0mdata\u001b[0m \u001b[0;34m=\u001b[0m \u001b[0mself\u001b[0m\u001b[0;34m.\u001b[0m\u001b[0mbuffer\u001b[0m \u001b[0;34m+\u001b[0m \u001b[0minput\u001b[0m\u001b[0;34m\u001b[0m\u001b[0;34m\u001b[0m\u001b[0m\n",
            "\u001b[0;31mKeyboardInterrupt\u001b[0m: "
          ]
        }
      ]
    },
    {
      "cell_type": "code",
      "metadata": {
        "id": "gpQCJLWnnzoO",
        "outputId": "8138a304-392d-4487-96fc-11de8ca926e6",
        "colab": {
          "base_uri": "https://localhost:8080/",
          "height": 74
        }
      },
      "source": [
        "#split\n",
        "X_tr, X_te, Y_tr, Y_te = train_test_split(samples,sampleClasses,train_size = 0.8,random_state = 5)\n",
        "\n",
        "print(np.shape(X_tr), np.shape(X_te), np.shape(Y_tr), np.shape(Y_te))\n",
        "print(X_tr[0])\n"
      ],
      "execution_count": null,
      "outputs": [
        {
          "output_type": "stream",
          "text": [
            "(28, 828) (8, 828) (28,) (8,)\n",
            "['0.31061', '0.012481', '0.89813', '0.00059684', '3.623e-09', '3.2266e-07', '0.39077', '0.89995', '-0.42538', '0.00032757', '0.0032505', '0.0012599', '0.0015371', '0.00037797', '0.0027969', '0.0015623', '0.033337', '1.6503', '1.7649', '1.1946', '2.108', '1.868', '1.8585', '0.59129', '0.12915', '0.56515', '0.0018641', '2.7475e-06', '4.5444e-05', '-1.469', '-0.66722', '0.2193', '0.00047873', '0.0026456', '0.0017134', '0.0017889', '0.00012598', '0.0021165', '0.0022677', '0.03331', '2.6124', '2.8811', '1.6538', '2.3341', '2.9266', '1.826', '0.61742', '0.17145', '0.53059', '2.4062e-07', '7.1198e-06', '0.00010959', '0.357', '0.41028', '0.20211', '0.00050393', '0.0044598', '0.0027464', '0.0017134', '0.00020157', '0.0042078', '0.0034015', '0.027212', '1.7853', '2.3098', '1.9028', '2.4572', '2.7219', '1.3934', '0.56431', '0.18376', '0.51273', '3.3846e-05', '5.3535e-06', '3.6465e-06', '-0.29423', '0.026719', '-0.84047', '0.00057952', '0.0030992', '0.0021165', '0.0017386', '0.00017638', '0.0028472', '0.0023937', '0.031496', '2.6007', '2.9108', '2.3112', '2.9356', '2.8931', '2.6284', '0.5797', '0.21625', '0.46055', '1.9402e-08', '7.4515e-06', '5.2927e-06', '0.098216', '0.84518', '-0.27749', '0.00037795', '0.0046613', '0.002822', '0.0017134', '0.00020157', '0.0045102', '0.0028472', '0.027313', '2.7635', '2.9104', '2.3972', '2.8345', '2.9113', '2.7087', '0.46573', '0.078429', '0.61332', '0.000831', '4.1031e-06', '0.00013884', '0.92186', '0.36376', '0.64765', '0.00052913', '0.0040314', '0.0012346', '0.0018645', '5.0393e-05', '0.002822', '0.0014614', '0.032453', '2.3206', '2.7155', '2.0904', '2.7265', '2.9514', '2.4176', '0.31483', '0.019484', '0.87263', '0.0007674', '8.5238e-08', '1.3094e-05', '0.10492', '-0.10788', '-0.030035', '0.00045354', '0.0023433', '0.0014362', '0.0017638', '0.00015118', '0.0022677', '0.0016882', '0.034343', '1.2387', '1.2978', '1.1632', '0.96469', '1.5338', '1.0146', '0.59569', '0.11869', '0.58745', '0.00042113', '7.493e-06', '3.3216e-05', '-1.3569', '-0.26487', '0.51651', '0.00045354', '0.0025448', '0.0019653', '0.0017134', '0.00020157', '0.0029228', '0.0020913', '0.032554', '2.3399', '2.9503', '2.0243', '2.4131', '3.204', '2.2328', '0.58507', '0.14556', '0.58155', '6.2439e-06', '1.2595e-05', '8.9206e-05', '-1.1362', '-0.058168', '0.50229', '0.00057952', '0.0057196', '0.0030488', '0.001663', '0.00025196', '0.004485', '0.0035023', '0.025196', '1.842', '3.1872', '2.2782', '2.4047', '3.1567', '2.7159', '0.53827', '0.11899', '0.59039', '2.9988e-05', '4.8611e-06', '3.7587e-05', '0.30019', '-0.12899', '0.71848', '0.00045354', '0.0034015', '0.0023685', '0.001663', '0.00025196', '0.0032251', '0.0024945', '0.030589', '1.931', '2.8493', '1.6785', '2.1152', '2.9349', '2.2618', '0.5392', '0.13568', '0.52658', '0.00011654', '1.2742e-05', '2.74e-05', '0.8158', '-0.61004', '0.72646', '0.00047873', '0.006929', '0.0035023', '0.0016882', '0.00022677', '0.0061227', '0.0045102', '0.020989', '2.3389', '2.7985', '1.9489', '2.3209', '2.7273', '2.431', '0.52813', '0.089148', '0.61442', '7.7675e-05', '3.398e-06', '5.6619e-05', '-0.82285', '0.72025', '-0.61662', '0.00057952', '0.0045606', '0.0017638', '0.001663', '0.00025196', '0.0033259', '0.0019401', '0.030362', '1.9866', '2.7693', '2.5061', '1.4937', '2.8946', '1.5598', '0.77779', '0.17368', '0.49548', '4.0978e-05', '2.5484e-05', '6.3954e-05', '0.20785', '-0.17523', '-0.1556', '0.00050393', '0.0077353', '0.0050393', '0.001411', '0.00050393', '0.0070802', '0.0056692', '0.016504', '2.5187', '2.6453', '2.6899', '2.582', '2.6242', '2.9647', '0.68152', '0.20209', '0.44117', '0.00011261', '3.5812e-05', '3.7278e-05', '0.077911', '0.070974', '-0.74502', '0.00030236', '0.0044346', '0.0018897', '0.0013858', '0.00052913', '0.0047117', '0.0021165', '0.029077', '3.0826', '2.639', '2.8977', '3.3786', '2.2095', '2.9047', '0.62607', '0.22538', '0.44908', '0.00012403', '2.1896e-05', '2.9793e-05', '-1.6117', '0.69573', '-1.1809', '0.00025196', '0.0039558', '0.0031496', '0.001285', '0.00062991', '0.0045858', '0.0029732', '0.027615', '2.9197', '2.3012', '2.2075', '3.0339', '2.3835', '2.6246', '0.58589', '0.17747', '0.48', '0.00018439', '5.1938e-05', '9.4591e-05', '1.3392', '1.383', '-0.60884', '0.00012599', '0.0050902', '0.0018143', '0.0014363', '0.00047878', '0.0050902', '0.0020411', '0.028374', '2.4607', '1.8256', '1.6241', '2.8546', '2.6823', '2.3109', '0.59909', '0.21816', '0.46146', '4.2501e-05', '0.00011174', '7.2232e-05', '0.44726', '-0.0027743', '-1.9852', '0.00012599', '0.0028475', '0.0016379', '0.0013355', '0.00057957', '0.0029735', '0.0015371', '0.033414', '2.5118', '2.3657', '1.7505', '3.1743', '2.2243', '2.2953', '0.58273', '0.1887', '0.48058', '0.0001516', '4.5038e-05', '6.2716e-05', '0.94197', '-0.10467', '0.58137', '0.00027716', '0.0045858', '0.0030992', '0.0013102', '0.00060472', '0.0051653', '0.0034267', '0.025978', '2.4378', '1.9731', '2.0937', '2.4831', '2.3845', '2.3765', '0.71234', '0.21124', '0.47996', '0.00012586', '2.3289e-05', '0.00015619', '-1.03', '-0.22882', '0.42289', '0.00065511', '0.0079873', '0.0050393', '0.001285', '0.00062991', '0.0079621', '0.005896', '0.014992', '3.008', '2.4492', '2.081', '2.8449', '2.6915', '2.61', '0.62494', '0.2516', '0.36903', '0.00012607', '0.00011643', '0.00012295', '-0.078545', '0.14265', '-0.13459', '0.00047873', '0.0071054', '0.0044346', '0.0014866', '0.00042834', '0.0063243', '0.0049637', '0.019225', '2.4279', '2.4849', '1.8832', '2.3087', '2.9567', '2.2197', '0.51837', '0.22418', '0.4236', '0.00049556', '1.1528e-05', '4.0248e-05', '1.3653', '-0.0016585', '0.54439', '0.00060472', '0.0072314', '0.004233', '0.0014362', '0.00047873', '0.0058708', '0.0049385', '0.019653', '2.4171', '2.1655', '1.696', '2.9446', '3.1199', '2.2326', '0.39505', '0.40083', '0.46004', '0.00054333', '0.00037084', '0.00031814', '-1.0612', '-1.1923', '0.39198', '0.00052913', '0.0066015', '0.0046865', '0.001411', '0.00050393', '0.0063747', '0.0049637', '0.019376', '2.8823', '2.747', '2.1898', '2.562', '2.6888', '2.4955', '0.56916', '0.45221', '0.33879', '1.4732e-06', '7.4977e-05', '2.9814e-05', '0.17143', '0.60863', '0.43088', '0.00047873', '0.0063495', '0.0037543', '0.0013102', '0.00060472', '0.0060975', '0.0043338', '0.021518', '2.769', '2.3958', '1.6607', '2.9123', '1.9926', '1.83', '0.58122', '0.35811', '0.40787', '0.00018001', '0.00011011', '0.0001689', '-0.9623', '0.87932', '0.080728', '0.00027717', '0.0082648', '0.0033513', '0.0013607', '0.00055435', '0.006879', '0.0047372', '0.019024', '2.7466', '2.3213', '2.2561', '2.8138', '2.5089', '2.1661', '0.59981', '0.18098', '0.43842', '0.00018232', '2.9562e-05', '6.7904e-05', '1.4226', '0.92972', '-0.74534', '0.00032757', '0.0060222', '0.0032505', '0.0015371', '0.00037797', '0.0046112', '0.0043088', '0.024013', '2.3998', '1.5623', '1.8451', '3.1858', '2.163', '2.5336', '0.62855', '0.15583', '0.43404', '0.00061758', '0.00010069', '2.6948e-05', '0.04934', '0.49054', '-0.18834', '0.00030236', '0.0038551', '0.0043338', '0.0013858', '0.00052913', '0.0035275', '0.0040062', '0.026507', '2.8595', '1.3228', '1.346', '2.9192', '1.7135', '1.3298', '0.64288', '0.13956', '0.44356', '3.0416e-05', '1.6876e-07', '2.1306e-07', '1.8316', '1.2852', '-0.3311', '0.00022678', '0.0029481', '0.0014867', '0.0014615', '0.00045356', '0.0024694', '0.0017386', '0.033664', '2.4832', '2.1885', '1.6079', '2.5796', '2.6019', '2.8062', '0.60844', '0.10569', '0.43969', '0.00020351', '5.5959e-07', '8.8874e-07', '-0.5126', '0.61701', '-0.32583', '0.00015119', '0.0041072', '0.0017638', '0.0014867', '0.00042836', '0.0030741', '0.0023686', '0.031069', '2.2422', '1.3672', '1.5131', '2.3448', '2.6269', '1.4853', '0.60394', '0.14883', '0.38952', '0.00013144', '0.00019406', '7.6109e-06', '0.12746', '-0.44954', '2.3301', '0.00017638', '0.0024441', '0.0021417', '0.0013858', '0.00052913', '0.0021417', '0.0022425', '0.033385', '2.2054', '1.1937', '1.4389', '2.036', '0.79459', '0.97498', '0.61008', '0.17192', '0.38014', '7.9727e-05', '0.00027097', '1.3428e-05', '0.96048', '-0.88032', '-1.9051', '7.5597e-05', '0.0026459', '0.0014111', '0.0013607', '0.00055438', '0.0024443', '0.0015371', '0.034422', '2.3156', '1.4683', '1.5559', '2.2813', '1.6403', '1.8424', '0.65897', '0.14288', '0.49497', '2.1214e-08', '7.481e-09', '5.3234e-09', '0.15479', '0.22829', '0.50724', '0.0006803', '0.0095747', '0.0057952', '0.001285', '0.00062991', '0.0086928', '0.0076849', '0.010104', '3.0409', '3.109', '2.6537', '3.1771', '2.8099', '3.3611', '0.64912', '0.13441', '0.47642', '4.0339e-07', '5.6608e-08', '8.141e-06', '0.95927', '-0.37551', '0.67221', '0.00032755', '0.0096251', '0.0049637', '0.0012094', '0.0007055', '0.0082392', '0.0064503', '0.012926', '1.1147', '1.7017', '2.1946', '1.5614', '2.5712', '2.1573', '0.64813', '0.12735', '0.47347', '6.4706e-07', '3.6706e-08', '8.1841e-07', '0.27958', '0.44177', '0.33949', '0.00030236', '0.0051401', '0.0038551', '0.0013606', '0.00055432', '0.0042078', '0.0038047', '0.025222', '1.7455', '3.0922', '3.1033', '1.0934', '3.3739', '3.1441', '0.63143', '0.13789', '0.46471', '4.5186e-08', '3.5345e-08', '5.1263e-07', '1.1236', '1.3471', '0.31975', '0.00025196', '0.0052913', '0.0039306', '0.0013102', '0.00060472', '0.0051401', '0.0038299', '0.024088', '2.3365', '3.3568', '3.2446', '1.4389', '3.2622', '3.0571', '0.64246', '0.12923', '0.45963', '2.0574e-07', '2.5723e-08', '2.5865e-07', '-0.33357', '0.45515', '0.047706', '0.0001008', '0.0067029', '0.0021419', '0.0014363', '0.00047878', '0.0047878', '0.0035026', '0.0253', '1.8232', '2.9321', '2.8872', '1.6124', '3.2401', '3.3839', '0.65486', '0.080512', '0.46526', '0.00038338', '1.9881e-07', '8.4137e-06', '0.015369', '0.74925', '0.14719', '0.00042834', '0.0073826', '0.0039558', '0.001411', '0.00050393', '0.0057448', '0.005392', '0.019628', '1.3829', '1.8463', '0.8319', '1.5792', '2.427', '1.588']\n"
          ],
          "name": "stdout"
        }
      ]
    },
    {
      "cell_type": "code",
      "metadata": {
        "id": "3xLQdAKYn26X"
      },
      "source": [
        "#batch data\n",
        "trainingSamplesX = np.asarray(X_tr, dtype=np.float64)\n",
        "trainingSamplesY = np.asarray(Y_tr, dtype=np.int64)\n",
        "\n",
        "testSamplesX = np.asarray(X_te, dtype=np.float64)\n",
        "testSamplesY = np.asarray(Y_te, dtype=np.int64)\n",
        "\n",
        "traindata = torch.utils.data.TensorDataset(torch.from_numpy(trainingSamplesX).float()\n",
        "                                       ,torch.from_numpy(trainingSamplesY).long())\n",
        "\n",
        "b_train = torch.utils.data.DataLoader(traindata,batch_size = 20,shuffle = False)\n",
        "\n",
        "testdata = torch.utils.data.TensorDataset(torch.from_numpy(testSamplesX).float()\n",
        "                                       ,torch.from_numpy(testSamplesY).long())\n",
        "\n",
        "b_test = torch.utils.data.DataLoader(testdata,batch_size = 20,shuffle = False)\n",
        "\n"
      ],
      "execution_count": null,
      "outputs": []
    },
    {
      "cell_type": "code",
      "metadata": {
        "id": "allWyjrCv7k2",
        "colab": {
          "base_uri": "https://localhost:8080/",
          "height": 129
        },
        "outputId": "c9f39ee8-0e2d-412a-f63a-0172ffdd4bb0"
      },
      "source": [
        "#class for encoder framework - 1\n",
        "class Net1(nn.Module):\n",
        "    def __init__(self):\n",
        "        super().__init__()\n",
        "        self.e1 = nn.Linear(828,512)\n",
        "        self.e2 = nn.Linear(512,256)\n",
        "        self.d1 = nn.Linear(256,512)\n",
        "        self.d2 = nn.Linear(512,828)\n",
        "    \n",
        "    def forward(self,x):\n",
        "        x = F.relu(self.e1(x))\n",
        "        x = self.e2(x)\n",
        "        x = F.relu(self.d1(x))\n",
        "        x = self.d2(x)\n",
        "        return x\n",
        "    \n",
        "    def redRep1(self,x):\n",
        "        x = F.relu(self.e1(x))\n",
        "        x = self.e2(x)\n",
        "        return x\n",
        "    \n",
        "net1 = Net1()\n",
        "print(net1)"
      ],
      "execution_count": null,
      "outputs": [
        {
          "output_type": "stream",
          "text": [
            "Net1(\n",
            "  (e1): Linear(in_features=828, out_features=512, bias=True)\n",
            "  (e2): Linear(in_features=512, out_features=256, bias=True)\n",
            "  (d1): Linear(in_features=256, out_features=512, bias=True)\n",
            "  (d2): Linear(in_features=512, out_features=828, bias=True)\n",
            ")\n"
          ],
          "name": "stdout"
        }
      ]
    },
    {
      "cell_type": "code",
      "metadata": {
        "id": "p4-Ye1EFwO5H"
      },
      "source": [
        "optimizer1 = optim.Adam(net1.parameters(), lr = 1e-3)"
      ],
      "execution_count": null,
      "outputs": []
    },
    {
      "cell_type": "code",
      "metadata": {
        "id": "YiZfQ9QKwPnz",
        "colab": {
          "base_uri": "https://localhost:8080/",
          "height": 129
        },
        "outputId": "feb6eca7-c13f-41d3-ea41-d3fafb49d950"
      },
      "source": [
        "#ENCODER 1\n",
        "prev_loss = 0;cur_loss = 10\n",
        "while((abs(prev_loss-cur_loss)>1e-1)):\n",
        "    prev_loss = cur_loss\n",
        "    running_loss = 0\n",
        "    for d in b_train:\n",
        "        #print(d.shape)\n",
        "        x,y = d\n",
        "        net1.zero_grad()\n",
        "        \n",
        "        output = net1(x.view(-1,828))\n",
        "        loss = F.mse_loss(output,x.view(-1,828))\n",
        "        running_loss += loss\n",
        "        loss.backward()\n",
        "        optimizer1.step()\n",
        "    print(running_loss/len(b_train))\n",
        "    cur_loss = running_loss/len(b_train)\n",
        "    \n",
        "print('TRAINED 1ST stacking')"
      ],
      "execution_count": null,
      "outputs": [
        {
          "output_type": "stream",
          "text": [
            "tensor(1.6560, grad_fn=<DivBackward0>)\n",
            "tensor(0.9616, grad_fn=<DivBackward0>)\n",
            "tensor(0.5446, grad_fn=<DivBackward0>)\n",
            "tensor(0.2604, grad_fn=<DivBackward0>)\n",
            "tensor(0.3036, grad_fn=<DivBackward0>)\n",
            "TRAINED 1ST stacking\n"
          ],
          "name": "stdout"
        }
      ]
    },
    {
      "cell_type": "code",
      "metadata": {
        "id": "UABE38bmwTro",
        "colab": {
          "base_uri": "https://localhost:8080/",
          "height": 129
        },
        "outputId": "2f8ea4b8-8441-43c5-b99e-d08f05ea7d82"
      },
      "source": [
        "#class for encoder framework - 2\n",
        "class Net2(nn.Module):\n",
        "    def __init__(self):\n",
        "        super().__init__()\n",
        "        self.e3 = nn.Linear(256,128)\n",
        "        self.e4 = nn.Linear(128,128)\n",
        "        self.d3 = nn.Linear(128,128)\n",
        "        self.d4 = nn.Linear(128,256)\n",
        "        \n",
        "    def forward(self,x):\n",
        "        x = F.relu(self.e3(x))\n",
        "        x = self.e4(x)\n",
        "        x = F.relu(self.d3(x))\n",
        "        x = self.d4(x)\n",
        "        return x\n",
        "    \n",
        "    def redRep2(self,x):\n",
        "        x = F.relu(self.e3(x))\n",
        "        x = self.e4(x)\n",
        "        return x\n",
        "    \n",
        "net2 = Net2()\n",
        "print(net2)"
      ],
      "execution_count": null,
      "outputs": [
        {
          "output_type": "stream",
          "text": [
            "Net2(\n",
            "  (e3): Linear(in_features=256, out_features=128, bias=True)\n",
            "  (e4): Linear(in_features=128, out_features=128, bias=True)\n",
            "  (d3): Linear(in_features=128, out_features=128, bias=True)\n",
            "  (d4): Linear(in_features=128, out_features=256, bias=True)\n",
            ")\n"
          ],
          "name": "stdout"
        }
      ]
    },
    {
      "cell_type": "code",
      "metadata": {
        "id": "M49Z2sfGwWQX"
      },
      "source": [
        "optimizer2 = optim.Adam(net2.parameters(), lr = 1e-3)"
      ],
      "execution_count": null,
      "outputs": []
    },
    {
      "cell_type": "code",
      "metadata": {
        "id": "ubFyOutrwaIn",
        "colab": {
          "base_uri": "https://localhost:8080/",
          "height": 204
        },
        "outputId": "26e18cb2-6e52-4c7d-d34e-e8731cd802ab"
      },
      "source": [
        "#ENCODER 2\n",
        "prev_loss = 0;cur_loss = 10\n",
        "while(abs(prev_loss-cur_loss)>1e-1):\n",
        "    prev_loss = cur_loss\n",
        "    running_loss = 0\n",
        "    for d in b_train:\n",
        "        #print(d.shape)\n",
        "        \n",
        "        x,y = d\n",
        "        net2.zero_grad()\n",
        "        temp = net1.redRep1(x.view(-1,828))\n",
        "        output = net2(temp)\n",
        "        loss = F.mse_loss(output,temp)\n",
        "        running_loss += loss\n",
        "        loss.backward()\n",
        "        optimizer2.step()\n",
        "    print(running_loss/len(b_train))\n",
        "    cur_loss = running_loss/len(b_train)\n",
        "    \n",
        "print('TRAINED 2ND stacking')"
      ],
      "execution_count": null,
      "outputs": [
        {
          "output_type": "stream",
          "text": [
            "tensor(2.4001, grad_fn=<DivBackward0>)\n",
            "tensor(2.1903, grad_fn=<DivBackward0>)\n",
            "tensor(1.8258, grad_fn=<DivBackward0>)\n",
            "tensor(1.2978, grad_fn=<DivBackward0>)\n",
            "tensor(0.8620, grad_fn=<DivBackward0>)\n",
            "tensor(0.6870, grad_fn=<DivBackward0>)\n",
            "tensor(0.3910, grad_fn=<DivBackward0>)\n",
            "tensor(0.1899, grad_fn=<DivBackward0>)\n",
            "tensor(0.1566, grad_fn=<DivBackward0>)\n",
            "TRAINED 2ND stacking\n"
          ],
          "name": "stdout"
        }
      ]
    },
    {
      "cell_type": "code",
      "metadata": {
        "id": "63VopBjywclQ",
        "colab": {
          "base_uri": "https://localhost:8080/",
          "height": 129
        },
        "outputId": "66efdf56-a791-43d6-ea86-34614aa320b5"
      },
      "source": [
        "#class for encoder framework - 3\n",
        "class Net3(nn.Module):\n",
        "    def __init__(self):\n",
        "        super().__init__()\n",
        "        self.e5 = nn.Linear(128,64)\n",
        "        self.e6 = nn.Linear(64,64)\n",
        "        self.d5 = nn.Linear(64,64)\n",
        "        self.d6 = nn.Linear(64,128)\n",
        "    def forward(self,x):\n",
        "        x = F.relu(self.e5(x))\n",
        "        x = self.e6(x)\n",
        "        x = F.relu(self.d5(x))\n",
        "        x = self.d6(x)\n",
        "        return x\n",
        "    \n",
        "    def redRep3(self,x):\n",
        "        x = F.relu(self.e5(x))\n",
        "        x = self.e6(x)\n",
        "        return x\n",
        "\n",
        "net3 = Net3()\n",
        "print(net3)"
      ],
      "execution_count": null,
      "outputs": [
        {
          "output_type": "stream",
          "text": [
            "Net3(\n",
            "  (e5): Linear(in_features=128, out_features=64, bias=True)\n",
            "  (e6): Linear(in_features=64, out_features=64, bias=True)\n",
            "  (d5): Linear(in_features=64, out_features=64, bias=True)\n",
            "  (d6): Linear(in_features=64, out_features=128, bias=True)\n",
            ")\n"
          ],
          "name": "stdout"
        }
      ]
    },
    {
      "cell_type": "code",
      "metadata": {
        "id": "rEcyQn30wey4"
      },
      "source": [
        "optimizer3 = optim.Adam(net3.parameters(), lr = 1e-3)"
      ],
      "execution_count": null,
      "outputs": []
    },
    {
      "cell_type": "code",
      "metadata": {
        "id": "j_syzVPPwh8M",
        "colab": {
          "base_uri": "https://localhost:8080/",
          "height": 73
        },
        "outputId": "b5ec44c7-e4b5-4072-b493-78ead9e0a5eb"
      },
      "source": [
        "#ENCODER 3\n",
        "prev_loss = 0;cur_loss = 10\n",
        "while(abs(prev_loss-cur_loss)>1e-1):\n",
        "    prev_loss = cur_loss\n",
        "    running_loss = 0\n",
        "    for d in b_train:\n",
        "        #print(d.shape)\n",
        "        \n",
        "        x,y = d\n",
        "        net3.zero_grad()\n",
        "        temp = net2.redRep2(net1.redRep1(x.view(-1,828)))\n",
        "        output = net3(temp)\n",
        "        loss = F.mse_loss(output,temp)\n",
        "        running_loss += loss\n",
        "        loss.backward()\n",
        "        optimizer3.step()\n",
        "    print(running_loss/len(b_train))\n",
        "    cur_loss = running_loss/len(b_train)\n",
        "    \n",
        "print('TRAINED 3RD stacking')"
      ],
      "execution_count": null,
      "outputs": [
        {
          "output_type": "stream",
          "text": [
            "tensor(2.8557, grad_fn=<DivBackward0>)\n",
            "tensor(2.7734, grad_fn=<DivBackward0>)\n",
            "TRAINED 3RD stacking\n"
          ],
          "name": "stdout"
        }
      ]
    },
    {
      "cell_type": "code",
      "metadata": {
        "id": "86Sn4Tg5wtXf",
        "colab": {
          "base_uri": "https://localhost:8080/",
          "height": 204
        },
        "outputId": "ca271a28-a8d7-484a-a0d4-3ba50de76a78"
      },
      "source": [
        "class Classifier(nn.Module):\n",
        "    def __init__(self):\n",
        "        super().__init__()\n",
        "        self.e1 = net1.e1\n",
        "        self.e2 = net1.e2\n",
        "        self.e3 = net2.e3\n",
        "        self.e4 = net2.e4\n",
        "        self.e5 = net3.e5\n",
        "        self.e6 = net3.e6\n",
        "        \n",
        "        self.fc1 = nn.Linear(64,100)\n",
        "        self.fc2 = nn.Linear(100,5)\n",
        "    \n",
        "    def forward(self,x):\n",
        "        x = F.relu(self.e1(x))\n",
        "        x = self.e2(x)\n",
        "        \n",
        "        x = F.relu(self.e3(x))\n",
        "        x = self.e4(x)\n",
        "        \n",
        "        x = F.relu(self.e5(x))\n",
        "        x = self.e6(x)\n",
        "        \n",
        "        x = torch.tanh(self.fc1(x))\n",
        "        x = self.fc2(x)\n",
        "        return x\n",
        "\n",
        "clf = Classifier()\n",
        "print(clf.parameters)"
      ],
      "execution_count": null,
      "outputs": [
        {
          "output_type": "stream",
          "text": [
            "<bound method Module.parameters of Classifier(\n",
            "  (e1): Linear(in_features=828, out_features=512, bias=True)\n",
            "  (e2): Linear(in_features=512, out_features=256, bias=True)\n",
            "  (e3): Linear(in_features=256, out_features=128, bias=True)\n",
            "  (e4): Linear(in_features=128, out_features=128, bias=True)\n",
            "  (e5): Linear(in_features=128, out_features=64, bias=True)\n",
            "  (e6): Linear(in_features=64, out_features=64, bias=True)\n",
            "  (fc1): Linear(in_features=64, out_features=100, bias=True)\n",
            "  (fc2): Linear(in_features=100, out_features=5, bias=True)\n",
            ")>\n"
          ],
          "name": "stdout"
        }
      ]
    },
    {
      "cell_type": "code",
      "metadata": {
        "id": "9uds23Hywumt"
      },
      "source": [
        "optimizer4 = optim.Adam(clf.parameters(), lr = 1e-4)\n",
        "criterion = nn.CrossEntropyLoss()"
      ],
      "execution_count": null,
      "outputs": []
    },
    {
      "cell_type": "code",
      "metadata": {
        "id": "qR1R2oymwxNv",
        "colab": {
          "base_uri": "https://localhost:8080/",
          "height": 73
        },
        "outputId": "b7043b72-642b-4f92-8c17-50fa6205cdd1"
      },
      "source": [
        "#CLASSIFIER\n",
        "prev_loss = 0;cur_loss = 10\n",
        "while(abs(prev_loss-cur_loss)>1e-1):\n",
        "    prev_loss = cur_loss\n",
        "    running_loss = 0\n",
        "    for d in b_train:\n",
        "        #print(d.shape)\n",
        "        \n",
        "        x,y = d\n",
        "        clf.zero_grad()\n",
        "        output = clf(x.view(-1,828))\n",
        "        loss = criterion(output,y)\n",
        "        running_loss += loss\n",
        "        loss.backward()\n",
        "        optimizer4.step()\n",
        "    print(running_loss/len(b_train))\n",
        "    cur_loss = running_loss/len(b_train)\n",
        "    \n",
        "print('TRAINED classifier')"
      ],
      "execution_count": null,
      "outputs": [
        {
          "output_type": "stream",
          "text": [
            "tensor(1.5760, grad_fn=<DivBackward0>)\n",
            "tensor(1.4848, grad_fn=<DivBackward0>)\n",
            "TRAINED classifier\n"
          ],
          "name": "stdout"
        }
      ]
    }
  ]
}